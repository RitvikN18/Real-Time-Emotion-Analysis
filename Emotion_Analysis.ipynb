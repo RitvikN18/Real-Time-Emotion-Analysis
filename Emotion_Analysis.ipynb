{
  "nbformat": 4,
  "nbformat_minor": 0,
  "metadata": {
    "colab": {
      "name": "Emotion Analysis.ipynb",
      "provenance": []
    },
    "kernelspec": {
      "name": "python3",
      "display_name": "Python 3"
    },
    "accelerator": "GPU"
  },
  "cells": [
    {
      "cell_type": "code",
      "metadata": {
        "id": "ezlo4WSuNNFK",
        "colab_type": "code",
        "colab": {}
      },
      "source": [
        "import tensorflow as tf\n",
        "from tensorflow import keras\n",
        "import numpy as np\n",
        "import pandas as pd"
      ],
      "execution_count": 0,
      "outputs": []
    },
    {
      "cell_type": "code",
      "metadata": {
        "id": "6KBZUd9FqgdI",
        "colab_type": "code",
        "colab": {}
      },
      "source": [
        "!pip install -U -q PyDrive\n",
        "from pydrive.auth import GoogleAuth\n",
        "from pydrive.drive import GoogleDrive\n",
        "from google.colab import auth\n",
        "from oauth2client.client import GoogleCredentials\n",
        "# Authenticate and create the PyDrive client.\n",
        "auth.authenticate_user()\n",
        "gauth = GoogleAuth()\n",
        "gauth.credentials = GoogleCredentials.get_application_default()\n",
        "drive = GoogleDrive(gauth)"
      ],
      "execution_count": 0,
      "outputs": []
    },
    {
      "cell_type": "code",
      "metadata": {
        "id": "ihdRRR_yrCPb",
        "colab_type": "code",
        "colab": {}
      },
      "source": [
        "dataset = pd.read_csv('/content/drive/My Drive/data/fer2013.csv')"
      ],
      "execution_count": 0,
      "outputs": []
    },
    {
      "cell_type": "code",
      "metadata": {
        "id": "st46TSYLr2Cl",
        "colab_type": "code",
        "colab": {}
      },
      "source": [
        "x_train, y_train, x_test, y_test = [], [], [], []\n",
        "\n",
        "for index, row in dataset.iterrows():\n",
        "    temp = row['pixels'].split(' ')\n",
        "    try:\n",
        "        if 'Training' in row['Usage']:\n",
        "            x_train.append(np.array(temp, 'float32'))\n",
        "            y_train.append(row['emotion'])\n",
        "        elif 'PublicTest' in row['Usage']:\n",
        "            x_test.append(np.array(temp, 'float32'))\n",
        "            y_test.append(row['emotion'])\n",
        "    except:\n",
        "        print(\"Error occured at\", index, \"index and\", row, \"row\")\n"
      ],
      "execution_count": 0,
      "outputs": []
    },
    {
      "cell_type": "code",
      "metadata": {
        "id": "wqCmD8r0r9oD",
        "colab_type": "code",
        "colab": {
          "base_uri": "https://localhost:8080/",
          "height": 34
        },
        "outputId": "3ac09672-c411-4477-9e93-b34349099b32"
      },
      "source": [
        "from keras import utils as np_utils\n",
        "x_train = np.array(x_train, 'float32')\n",
        "x_test = np.array(x_test, 'float32')\n",
        "y_train = np.array(y_train, 'float32')\n",
        "y_test = np.array(y_test, 'float32')\n",
        "\n",
        "y_train = np_utils.to_categorical(y_train, num_classes=7)\n",
        "y_test = np_utils.to_categorical(y_test, num_classes=7)"
      ],
      "execution_count": 6,
      "outputs": [
        {
          "output_type": "stream",
          "text": [
            "Using TensorFlow backend.\n"
          ],
          "name": "stderr"
        }
      ]
    },
    {
      "cell_type": "code",
      "metadata": {
        "id": "dADARN3NsHwU",
        "colab_type": "code",
        "colab": {}
      },
      "source": [
        "x_train /= 255.0\n",
        "x_test /= 255.0"
      ],
      "execution_count": 0,
      "outputs": []
    },
    {
      "cell_type": "code",
      "metadata": {
        "id": "LaUK49LWsQ1t",
        "colab_type": "code",
        "colab": {}
      },
      "source": [
        "x_train = x_train.reshape(-1, 48, 48, 1)\n",
        "x_test = x_test.reshape(-1, 48, 48, 1)"
      ],
      "execution_count": 0,
      "outputs": []
    },
    {
      "cell_type": "code",
      "metadata": {
        "id": "lWWD0Z1_sXvZ",
        "colab_type": "code",
        "colab": {}
      },
      "source": [
        "model = keras.Sequential([\n",
        "    keras.layers.Conv2D(64, (3, 3), activation='relu',\n",
        "                        input_shape=(48, 48, 1), kernel_regularizer=keras.regularizers.l2(0.01)),\n",
        "    keras.layers.Conv2D(64, (3, 3), padding='same', activation='relu'),\n",
        "    keras.layers.BatchNormalization(),\n",
        "    keras.layers.MaxPooling2D(pool_size=(2, 2), strides=(2, 2)),\n",
        "    keras.layers.Dropout(0.5),\n",
        "    keras.layers.Conv2D(128, (3, 3), padding='same', activation='relu'),\n",
        "    keras.layers.BatchNormalization(),\n",
        "    keras.layers.Conv2D(128, (3, 3), padding='same', activation='relu'),\n",
        "    keras.layers.BatchNormalization(),\n",
        "    keras.layers.Conv2D(128, (3, 3), padding='same', activation='relu'),\n",
        "    keras.layers.BatchNormalization(),\n",
        "    keras.layers.MaxPooling2D(2, 2),\n",
        "    keras.layers.Dropout(0.5),\n",
        "    keras.layers.Conv2D(256, (3, 3), padding='same', activation='relu'),\n",
        "    keras.layers.BatchNormalization(),\n",
        "    keras.layers.Conv2D(256, (3, 3), padding='same', activation='relu'),\n",
        "    keras.layers.BatchNormalization(),\n",
        "    keras.layers.Conv2D(256, (3, 3), padding='same', activation='relu'),\n",
        "    keras.layers.BatchNormalization(),\n",
        "    keras.layers.MaxPooling2D(2, 2),\n",
        "    keras.layers.Dropout(0.5),\n",
        "    keras.layers.Conv2D(512, (3, 3), padding='same', activation='relu'),\n",
        "    keras.layers.BatchNormalization(),\n",
        "    keras.layers.Conv2D(512, (3, 3), padding='same', activation='relu'),\n",
        "    keras.layers.BatchNormalization(),\n",
        "    keras.layers.Conv2D(512, (3, 3), padding='same', activation='relu'),\n",
        "    keras.layers.BatchNormalization(),\n",
        "    keras.layers.MaxPooling2D(2, 2),\n",
        "    keras.layers.Dropout(0.5),\n",
        "    keras.layers.Flatten(),\n",
        "    keras.layers.Dense(512, activation='relu'),\n",
        "    keras.layers.Dropout(0.5),\n",
        "    keras.layers.Dense(256, activation='relu'),\n",
        "    keras.layers.Dropout(0.5),\n",
        "    keras.layers.Dense(128, activation='relu'),\n",
        "    keras.layers.Dropout(0.5),\n",
        "    keras.layers.Dense(64, activation='relu'),\n",
        "    keras.layers.Dropout(0.5),\n",
        "    keras.layers.Dense(7, activation='softmax')\n",
        "])"
      ],
      "execution_count": 0,
      "outputs": []
    },
    {
      "cell_type": "code",
      "metadata": {
        "id": "TSI7jM5Xs4BH",
        "colab_type": "code",
        "colab": {
          "base_uri": "https://localhost:8080/",
          "height": 1000
        },
        "outputId": "c57dbeca-f065-447d-f8f0-c1bf3bd447f9"
      },
      "source": [
        "model.summary()"
      ],
      "execution_count": 11,
      "outputs": [
        {
          "output_type": "stream",
          "text": [
            "Model: \"sequential\"\n",
            "_________________________________________________________________\n",
            "Layer (type)                 Output Shape              Param #   \n",
            "=================================================================\n",
            "conv2d (Conv2D)              (None, 46, 46, 64)        640       \n",
            "_________________________________________________________________\n",
            "conv2d_1 (Conv2D)            (None, 46, 46, 64)        36928     \n",
            "_________________________________________________________________\n",
            "batch_normalization (BatchNo (None, 46, 46, 64)        256       \n",
            "_________________________________________________________________\n",
            "max_pooling2d (MaxPooling2D) (None, 23, 23, 64)        0         \n",
            "_________________________________________________________________\n",
            "dropout (Dropout)            (None, 23, 23, 64)        0         \n",
            "_________________________________________________________________\n",
            "conv2d_2 (Conv2D)            (None, 23, 23, 128)       73856     \n",
            "_________________________________________________________________\n",
            "batch_normalization_1 (Batch (None, 23, 23, 128)       512       \n",
            "_________________________________________________________________\n",
            "conv2d_3 (Conv2D)            (None, 23, 23, 128)       147584    \n",
            "_________________________________________________________________\n",
            "batch_normalization_2 (Batch (None, 23, 23, 128)       512       \n",
            "_________________________________________________________________\n",
            "conv2d_4 (Conv2D)            (None, 23, 23, 128)       147584    \n",
            "_________________________________________________________________\n",
            "batch_normalization_3 (Batch (None, 23, 23, 128)       512       \n",
            "_________________________________________________________________\n",
            "max_pooling2d_1 (MaxPooling2 (None, 11, 11, 128)       0         \n",
            "_________________________________________________________________\n",
            "dropout_1 (Dropout)          (None, 11, 11, 128)       0         \n",
            "_________________________________________________________________\n",
            "conv2d_5 (Conv2D)            (None, 11, 11, 256)       295168    \n",
            "_________________________________________________________________\n",
            "batch_normalization_4 (Batch (None, 11, 11, 256)       1024      \n",
            "_________________________________________________________________\n",
            "conv2d_6 (Conv2D)            (None, 11, 11, 256)       590080    \n",
            "_________________________________________________________________\n",
            "batch_normalization_5 (Batch (None, 11, 11, 256)       1024      \n",
            "_________________________________________________________________\n",
            "conv2d_7 (Conv2D)            (None, 11, 11, 256)       590080    \n",
            "_________________________________________________________________\n",
            "batch_normalization_6 (Batch (None, 11, 11, 256)       1024      \n",
            "_________________________________________________________________\n",
            "max_pooling2d_2 (MaxPooling2 (None, 5, 5, 256)         0         \n",
            "_________________________________________________________________\n",
            "dropout_2 (Dropout)          (None, 5, 5, 256)         0         \n",
            "_________________________________________________________________\n",
            "conv2d_8 (Conv2D)            (None, 5, 5, 512)         1180160   \n",
            "_________________________________________________________________\n",
            "batch_normalization_7 (Batch (None, 5, 5, 512)         2048      \n",
            "_________________________________________________________________\n",
            "conv2d_9 (Conv2D)            (None, 5, 5, 512)         2359808   \n",
            "_________________________________________________________________\n",
            "batch_normalization_8 (Batch (None, 5, 5, 512)         2048      \n",
            "_________________________________________________________________\n",
            "conv2d_10 (Conv2D)           (None, 5, 5, 512)         2359808   \n",
            "_________________________________________________________________\n",
            "batch_normalization_9 (Batch (None, 5, 5, 512)         2048      \n",
            "_________________________________________________________________\n",
            "max_pooling2d_3 (MaxPooling2 (None, 2, 2, 512)         0         \n",
            "_________________________________________________________________\n",
            "dropout_3 (Dropout)          (None, 2, 2, 512)         0         \n",
            "_________________________________________________________________\n",
            "flatten (Flatten)            (None, 2048)              0         \n",
            "_________________________________________________________________\n",
            "dense (Dense)                (None, 512)               1049088   \n",
            "_________________________________________________________________\n",
            "dropout_4 (Dropout)          (None, 512)               0         \n",
            "_________________________________________________________________\n",
            "dense_1 (Dense)              (None, 256)               131328    \n",
            "_________________________________________________________________\n",
            "dropout_5 (Dropout)          (None, 256)               0         \n",
            "_________________________________________________________________\n",
            "dense_2 (Dense)              (None, 128)               32896     \n",
            "_________________________________________________________________\n",
            "dropout_6 (Dropout)          (None, 128)               0         \n",
            "_________________________________________________________________\n",
            "dense_3 (Dense)              (None, 64)                8256      \n",
            "_________________________________________________________________\n",
            "dropout_7 (Dropout)          (None, 64)                0         \n",
            "_________________________________________________________________\n",
            "dense_4 (Dense)              (None, 7)                 455       \n",
            "=================================================================\n",
            "Total params: 9,014,727\n",
            "Trainable params: 9,009,223\n",
            "Non-trainable params: 5,504\n",
            "_________________________________________________________________\n"
          ],
          "name": "stdout"
        }
      ]
    },
    {
      "cell_type": "code",
      "metadata": {
        "id": "GQMiw6IKsc5X",
        "colab_type": "code",
        "colab": {}
      },
      "source": [
        "model.compile(\n",
        "    optimizer='adam',\n",
        "    loss='categorical_crossentropy',\n",
        "    metrics=['accuracy']\n",
        ")"
      ],
      "execution_count": 0,
      "outputs": []
    },
    {
      "cell_type": "code",
      "metadata": {
        "id": "RPMyLvwPsgqY",
        "colab_type": "code",
        "colab": {
          "base_uri": "https://localhost:8080/",
          "height": 1000
        },
        "outputId": "b52ffe67-d166-49d6-888d-9ce6e421fd30"
      },
      "source": [
        "model.fit(\n",
        "    x_train,\n",
        "    y_train,\n",
        "    epochs=100,\n",
        "    batch_size=64,\n",
        "    validation_split=0.2,\n",
        "    shuffle=True,\n",
        ")"
      ],
      "execution_count": 13,
      "outputs": [
        {
          "output_type": "stream",
          "text": [
            "Epoch 1/100\n",
            "359/359 [==============================] - 53s 147ms/step - loss: 2.1350 - accuracy: 0.1988 - val_loss: 1.8779 - val_accuracy: 0.2517\n",
            "Epoch 2/100\n",
            "359/359 [==============================] - 51s 141ms/step - loss: 1.8692 - accuracy: 0.2302 - val_loss: 1.8394 - val_accuracy: 0.2517\n",
            "Epoch 3/100\n",
            "359/359 [==============================] - 51s 141ms/step - loss: 1.8441 - accuracy: 0.2464 - val_loss: 1.8323 - val_accuracy: 0.2517\n",
            "Epoch 4/100\n",
            "359/359 [==============================] - 51s 141ms/step - loss: 1.8354 - accuracy: 0.2491 - val_loss: 1.8236 - val_accuracy: 0.2517\n",
            "Epoch 5/100\n",
            "359/359 [==============================] - 51s 141ms/step - loss: 1.8295 - accuracy: 0.2505 - val_loss: 1.8254 - val_accuracy: 0.2517\n",
            "Epoch 6/100\n",
            "359/359 [==============================] - 51s 141ms/step - loss: 1.8251 - accuracy: 0.2500 - val_loss: 1.8137 - val_accuracy: 0.2517\n",
            "Epoch 7/100\n",
            "359/359 [==============================] - 51s 141ms/step - loss: 1.8185 - accuracy: 0.2507 - val_loss: 1.8076 - val_accuracy: 0.2517\n",
            "Epoch 8/100\n",
            "359/359 [==============================] - 51s 141ms/step - loss: 1.8120 - accuracy: 0.2498 - val_loss: 1.7982 - val_accuracy: 0.2517\n",
            "Epoch 9/100\n",
            "359/359 [==============================] - 51s 141ms/step - loss: 1.8058 - accuracy: 0.2503 - val_loss: 1.8132 - val_accuracy: 0.2517\n",
            "Epoch 10/100\n",
            "359/359 [==============================] - 51s 141ms/step - loss: 1.7993 - accuracy: 0.2537 - val_loss: 1.8207 - val_accuracy: 0.2517\n",
            "Epoch 11/100\n",
            "359/359 [==============================] - 51s 141ms/step - loss: 1.7764 - accuracy: 0.2700 - val_loss: 1.7740 - val_accuracy: 0.2638\n",
            "Epoch 12/100\n",
            "359/359 [==============================] - 51s 141ms/step - loss: 1.7294 - accuracy: 0.2939 - val_loss: 1.7692 - val_accuracy: 0.2647\n",
            "Epoch 13/100\n",
            "359/359 [==============================] - 51s 141ms/step - loss: 1.6807 - accuracy: 0.3102 - val_loss: 1.6559 - val_accuracy: 0.3042\n",
            "Epoch 14/100\n",
            "359/359 [==============================] - 51s 141ms/step - loss: 1.6231 - accuracy: 0.3332 - val_loss: 1.6991 - val_accuracy: 0.2691\n",
            "Epoch 15/100\n",
            "359/359 [==============================] - 51s 141ms/step - loss: 1.5871 - accuracy: 0.3657 - val_loss: 1.5777 - val_accuracy: 0.3546\n",
            "Epoch 16/100\n",
            "359/359 [==============================] - 51s 141ms/step - loss: 1.5476 - accuracy: 0.3889 - val_loss: 1.7236 - val_accuracy: 0.3154\n",
            "Epoch 17/100\n",
            "359/359 [==============================] - 51s 141ms/step - loss: 1.5141 - accuracy: 0.4030 - val_loss: 1.5757 - val_accuracy: 0.3589\n",
            "Epoch 18/100\n",
            "359/359 [==============================] - 50s 141ms/step - loss: 1.4863 - accuracy: 0.4093 - val_loss: 1.4780 - val_accuracy: 0.3894\n",
            "Epoch 19/100\n",
            "359/359 [==============================] - 51s 141ms/step - loss: 1.4705 - accuracy: 0.4134 - val_loss: 1.5252 - val_accuracy: 0.3877\n",
            "Epoch 20/100\n",
            "359/359 [==============================] - 51s 141ms/step - loss: 1.4496 - accuracy: 0.4255 - val_loss: 1.3794 - val_accuracy: 0.4436\n",
            "Epoch 21/100\n",
            "359/359 [==============================] - 51s 141ms/step - loss: 1.4302 - accuracy: 0.4297 - val_loss: 1.4496 - val_accuracy: 0.4065\n",
            "Epoch 22/100\n",
            "359/359 [==============================] - 51s 141ms/step - loss: 1.4092 - accuracy: 0.4386 - val_loss: 1.5127 - val_accuracy: 0.3979\n",
            "Epoch 23/100\n",
            "359/359 [==============================] - 51s 141ms/step - loss: 1.3946 - accuracy: 0.4475 - val_loss: 1.3869 - val_accuracy: 0.4441\n",
            "Epoch 24/100\n",
            "359/359 [==============================] - 50s 140ms/step - loss: 1.3789 - accuracy: 0.4493 - val_loss: 1.3488 - val_accuracy: 0.4500\n",
            "Epoch 25/100\n",
            "359/359 [==============================] - 51s 141ms/step - loss: 1.3578 - accuracy: 0.4582 - val_loss: 1.3813 - val_accuracy: 0.4547\n",
            "Epoch 26/100\n",
            "359/359 [==============================] - 50s 141ms/step - loss: 1.3448 - accuracy: 0.4665 - val_loss: 1.3323 - val_accuracy: 0.4666\n",
            "Epoch 27/100\n",
            "359/359 [==============================] - 51s 141ms/step - loss: 1.3254 - accuracy: 0.4769 - val_loss: 1.3172 - val_accuracy: 0.4899\n",
            "Epoch 28/100\n",
            "359/359 [==============================] - 50s 140ms/step - loss: 1.3118 - accuracy: 0.4898 - val_loss: 1.3532 - val_accuracy: 0.4824\n",
            "Epoch 29/100\n",
            "359/359 [==============================] - 51s 141ms/step - loss: 1.2877 - accuracy: 0.5032 - val_loss: 1.3599 - val_accuracy: 0.4840\n",
            "Epoch 30/100\n",
            "359/359 [==============================] - 50s 140ms/step - loss: 1.2705 - accuracy: 0.5100 - val_loss: 1.3190 - val_accuracy: 0.4995\n",
            "Epoch 31/100\n",
            "359/359 [==============================] - 50s 141ms/step - loss: 1.2502 - accuracy: 0.5212 - val_loss: 1.3258 - val_accuracy: 0.5031\n",
            "Epoch 32/100\n",
            "359/359 [==============================] - 50s 140ms/step - loss: 1.2319 - accuracy: 0.5290 - val_loss: 1.2534 - val_accuracy: 0.5340\n",
            "Epoch 33/100\n",
            "359/359 [==============================] - 50s 141ms/step - loss: 1.2186 - accuracy: 0.5364 - val_loss: 1.2206 - val_accuracy: 0.5442\n",
            "Epoch 34/100\n",
            "359/359 [==============================] - 50s 140ms/step - loss: 1.2005 - accuracy: 0.5441 - val_loss: 1.3016 - val_accuracy: 0.5153\n",
            "Epoch 35/100\n",
            "359/359 [==============================] - 50s 141ms/step - loss: 1.1754 - accuracy: 0.5535 - val_loss: 1.2310 - val_accuracy: 0.5374\n",
            "Epoch 36/100\n",
            "359/359 [==============================] - 50s 140ms/step - loss: 1.1562 - accuracy: 0.5626 - val_loss: 1.1789 - val_accuracy: 0.5704\n",
            "Epoch 37/100\n",
            "359/359 [==============================] - 51s 141ms/step - loss: 1.1393 - accuracy: 0.5701 - val_loss: 1.2612 - val_accuracy: 0.5129\n",
            "Epoch 38/100\n",
            "359/359 [==============================] - 50s 140ms/step - loss: 1.1370 - accuracy: 0.5734 - val_loss: 1.1943 - val_accuracy: 0.5623\n",
            "Epoch 39/100\n",
            "359/359 [==============================] - 50s 141ms/step - loss: 1.1229 - accuracy: 0.5800 - val_loss: 1.2153 - val_accuracy: 0.5554\n",
            "Epoch 40/100\n",
            "359/359 [==============================] - 50s 140ms/step - loss: 1.0860 - accuracy: 0.5924 - val_loss: 1.1595 - val_accuracy: 0.5754\n",
            "Epoch 41/100\n",
            "359/359 [==============================] - 51s 141ms/step - loss: 1.0705 - accuracy: 0.5984 - val_loss: 1.2017 - val_accuracy: 0.5742\n",
            "Epoch 42/100\n",
            "359/359 [==============================] - 50s 140ms/step - loss: 1.0613 - accuracy: 0.6032 - val_loss: 1.1651 - val_accuracy: 0.5825\n",
            "Epoch 43/100\n",
            "359/359 [==============================] - 50s 140ms/step - loss: 1.0377 - accuracy: 0.6138 - val_loss: 1.2534 - val_accuracy: 0.5512\n",
            "Epoch 44/100\n",
            "359/359 [==============================] - 50s 140ms/step - loss: 1.0235 - accuracy: 0.6200 - val_loss: 1.1716 - val_accuracy: 0.5932\n",
            "Epoch 45/100\n",
            "359/359 [==============================] - 50s 140ms/step - loss: 1.0012 - accuracy: 0.6303 - val_loss: 1.1782 - val_accuracy: 0.5839\n",
            "Epoch 46/100\n",
            "359/359 [==============================] - 50s 140ms/step - loss: 0.9905 - accuracy: 0.6352 - val_loss: 1.1936 - val_accuracy: 0.5848\n",
            "Epoch 47/100\n",
            "359/359 [==============================] - 50s 141ms/step - loss: 0.9733 - accuracy: 0.6434 - val_loss: 1.2228 - val_accuracy: 0.5697\n",
            "Epoch 48/100\n",
            "359/359 [==============================] - 50s 140ms/step - loss: 0.9544 - accuracy: 0.6533 - val_loss: 1.1853 - val_accuracy: 0.5808\n",
            "Epoch 49/100\n",
            "359/359 [==============================] - 51s 141ms/step - loss: 0.9392 - accuracy: 0.6506 - val_loss: 1.2875 - val_accuracy: 0.5582\n",
            "Epoch 50/100\n",
            "359/359 [==============================] - 50s 140ms/step - loss: 0.9292 - accuracy: 0.6641 - val_loss: 1.2985 - val_accuracy: 0.5827\n",
            "Epoch 51/100\n",
            "359/359 [==============================] - 51s 141ms/step - loss: 0.9126 - accuracy: 0.6725 - val_loss: 1.2441 - val_accuracy: 0.5845\n",
            "Epoch 52/100\n",
            "359/359 [==============================] - 50s 140ms/step - loss: 0.8949 - accuracy: 0.6808 - val_loss: 1.2443 - val_accuracy: 0.5724\n",
            "Epoch 53/100\n",
            "359/359 [==============================] - 50s 140ms/step - loss: 0.8715 - accuracy: 0.6869 - val_loss: 1.2544 - val_accuracy: 0.5873\n",
            "Epoch 54/100\n",
            "359/359 [==============================] - 50s 140ms/step - loss: 0.8652 - accuracy: 0.6908 - val_loss: 1.2152 - val_accuracy: 0.5963\n",
            "Epoch 55/100\n",
            "359/359 [==============================] - 50s 141ms/step - loss: 0.8458 - accuracy: 0.7012 - val_loss: 1.2954 - val_accuracy: 0.6036\n",
            "Epoch 56/100\n",
            "359/359 [==============================] - 50s 141ms/step - loss: 0.8388 - accuracy: 0.7020 - val_loss: 1.3284 - val_accuracy: 0.5787\n",
            "Epoch 57/100\n",
            "359/359 [==============================] - 50s 141ms/step - loss: 0.8294 - accuracy: 0.7074 - val_loss: 1.3932 - val_accuracy: 0.6087\n",
            "Epoch 58/100\n",
            "359/359 [==============================] - 51s 141ms/step - loss: 0.8070 - accuracy: 0.7157 - val_loss: 1.2771 - val_accuracy: 0.6043\n",
            "Epoch 59/100\n",
            "359/359 [==============================] - 50s 140ms/step - loss: 0.7832 - accuracy: 0.7237 - val_loss: 1.2710 - val_accuracy: 0.6106\n",
            "Epoch 60/100\n",
            "359/359 [==============================] - 51s 141ms/step - loss: 0.7752 - accuracy: 0.7287 - val_loss: 1.3026 - val_accuracy: 0.6088\n",
            "Epoch 61/100\n",
            "359/359 [==============================] - 51s 141ms/step - loss: 0.7677 - accuracy: 0.7327 - val_loss: 1.4113 - val_accuracy: 0.5907\n",
            "Epoch 62/100\n",
            "359/359 [==============================] - 51s 141ms/step - loss: 0.7434 - accuracy: 0.7419 - val_loss: 1.2952 - val_accuracy: 0.6038\n",
            "Epoch 63/100\n",
            "359/359 [==============================] - 51s 142ms/step - loss: 0.7384 - accuracy: 0.7461 - val_loss: 1.3688 - val_accuracy: 0.6064\n",
            "Epoch 64/100\n",
            "359/359 [==============================] - 51s 141ms/step - loss: 0.7089 - accuracy: 0.7556 - val_loss: 1.3908 - val_accuracy: 0.6068\n",
            "Epoch 65/100\n",
            "359/359 [==============================] - 51s 141ms/step - loss: 0.7136 - accuracy: 0.7555 - val_loss: 1.3575 - val_accuracy: 0.6080\n",
            "Epoch 66/100\n",
            "359/359 [==============================] - 50s 141ms/step - loss: 0.6921 - accuracy: 0.7668 - val_loss: 1.4285 - val_accuracy: 0.6125\n",
            "Epoch 67/100\n",
            "359/359 [==============================] - 51s 141ms/step - loss: 0.6946 - accuracy: 0.7655 - val_loss: 1.3589 - val_accuracy: 0.5874\n",
            "Epoch 68/100\n",
            "359/359 [==============================] - 51s 141ms/step - loss: 0.6657 - accuracy: 0.7731 - val_loss: 1.4562 - val_accuracy: 0.5893\n",
            "Epoch 69/100\n",
            "359/359 [==============================] - 51s 141ms/step - loss: 0.6628 - accuracy: 0.7759 - val_loss: 1.3822 - val_accuracy: 0.6256\n",
            "Epoch 70/100\n",
            "359/359 [==============================] - 50s 141ms/step - loss: 0.6532 - accuracy: 0.7805 - val_loss: 1.4511 - val_accuracy: 0.6104\n",
            "Epoch 71/100\n",
            "359/359 [==============================] - 51s 141ms/step - loss: 0.6299 - accuracy: 0.7906 - val_loss: 1.4886 - val_accuracy: 0.6230\n",
            "Epoch 72/100\n",
            "359/359 [==============================] - 51s 141ms/step - loss: 0.6343 - accuracy: 0.7873 - val_loss: 1.4678 - val_accuracy: 0.5994\n",
            "Epoch 73/100\n",
            "359/359 [==============================] - 51s 141ms/step - loss: 0.6167 - accuracy: 0.7925 - val_loss: 1.4089 - val_accuracy: 0.6041\n",
            "Epoch 74/100\n",
            "359/359 [==============================] - 50s 141ms/step - loss: 0.6081 - accuracy: 0.8014 - val_loss: 1.5031 - val_accuracy: 0.6221\n",
            "Epoch 75/100\n",
            "359/359 [==============================] - 51s 141ms/step - loss: 0.5955 - accuracy: 0.8072 - val_loss: 1.3268 - val_accuracy: 0.6148\n",
            "Epoch 76/100\n",
            "359/359 [==============================] - 50s 141ms/step - loss: 0.5704 - accuracy: 0.8098 - val_loss: 1.5757 - val_accuracy: 0.6041\n",
            "Epoch 77/100\n",
            "359/359 [==============================] - 51s 141ms/step - loss: 0.5795 - accuracy: 0.8101 - val_loss: 1.4950 - val_accuracy: 0.6237\n",
            "Epoch 78/100\n",
            "359/359 [==============================] - 51s 141ms/step - loss: 0.5641 - accuracy: 0.8145 - val_loss: 1.6429 - val_accuracy: 0.6083\n",
            "Epoch 79/100\n",
            "359/359 [==============================] - 51s 141ms/step - loss: 0.5398 - accuracy: 0.8221 - val_loss: 1.6238 - val_accuracy: 0.6257\n",
            "Epoch 80/100\n",
            "359/359 [==============================] - 50s 140ms/step - loss: 0.5386 - accuracy: 0.8230 - val_loss: 1.5531 - val_accuracy: 0.6203\n",
            "Epoch 81/100\n",
            "359/359 [==============================] - 51s 141ms/step - loss: 0.5297 - accuracy: 0.8295 - val_loss: 1.5446 - val_accuracy: 0.6158\n",
            "Epoch 82/100\n",
            "359/359 [==============================] - 50s 141ms/step - loss: 0.5291 - accuracy: 0.8297 - val_loss: 1.4495 - val_accuracy: 0.6019\n",
            "Epoch 83/100\n",
            "359/359 [==============================] - 51s 141ms/step - loss: 0.5115 - accuracy: 0.8336 - val_loss: 1.6823 - val_accuracy: 0.6223\n",
            "Epoch 84/100\n",
            "359/359 [==============================] - 51s 141ms/step - loss: 0.5067 - accuracy: 0.8376 - val_loss: 1.6992 - val_accuracy: 0.5944\n",
            "Epoch 85/100\n",
            "359/359 [==============================] - 51s 141ms/step - loss: 0.5030 - accuracy: 0.8389 - val_loss: 1.5785 - val_accuracy: 0.6130\n",
            "Epoch 86/100\n",
            "359/359 [==============================] - 51s 141ms/step - loss: 0.4970 - accuracy: 0.8444 - val_loss: 1.5164 - val_accuracy: 0.6106\n",
            "Epoch 87/100\n",
            "359/359 [==============================] - 51s 141ms/step - loss: 0.4844 - accuracy: 0.8464 - val_loss: 1.6545 - val_accuracy: 0.5787\n",
            "Epoch 88/100\n",
            "359/359 [==============================] - 51s 141ms/step - loss: 0.4665 - accuracy: 0.8488 - val_loss: 1.8083 - val_accuracy: 0.6230\n",
            "Epoch 89/100\n",
            "359/359 [==============================] - 51s 141ms/step - loss: 0.4641 - accuracy: 0.8506 - val_loss: 1.6305 - val_accuracy: 0.6254\n",
            "Epoch 90/100\n",
            "359/359 [==============================] - 51s 141ms/step - loss: 0.4685 - accuracy: 0.8541 - val_loss: 1.7446 - val_accuracy: 0.6116\n",
            "Epoch 91/100\n",
            "359/359 [==============================] - 51s 141ms/step - loss: 0.4311 - accuracy: 0.8630 - val_loss: 1.8490 - val_accuracy: 0.6284\n",
            "Epoch 92/100\n",
            "359/359 [==============================] - 51s 141ms/step - loss: 0.4313 - accuracy: 0.8640 - val_loss: 1.7900 - val_accuracy: 0.6132\n",
            "Epoch 93/100\n",
            "359/359 [==============================] - 51s 141ms/step - loss: 0.4349 - accuracy: 0.8650 - val_loss: 1.7495 - val_accuracy: 0.6186\n",
            "Epoch 94/100\n",
            "359/359 [==============================] - 51s 141ms/step - loss: 0.4228 - accuracy: 0.8687 - val_loss: 1.7236 - val_accuracy: 0.6102\n",
            "Epoch 95/100\n",
            "359/359 [==============================] - 51s 142ms/step - loss: 0.4210 - accuracy: 0.8688 - val_loss: 1.5101 - val_accuracy: 0.6196\n",
            "Epoch 96/100\n",
            "359/359 [==============================] - 51s 141ms/step - loss: 0.4096 - accuracy: 0.8723 - val_loss: 1.6337 - val_accuracy: 0.6264\n",
            "Epoch 97/100\n",
            "359/359 [==============================] - 51s 141ms/step - loss: 0.3991 - accuracy: 0.8763 - val_loss: 1.9317 - val_accuracy: 0.6169\n",
            "Epoch 98/100\n",
            "359/359 [==============================] - 51s 141ms/step - loss: 0.3945 - accuracy: 0.8781 - val_loss: 1.8719 - val_accuracy: 0.6240\n",
            "Epoch 99/100\n",
            "359/359 [==============================] - 51s 142ms/step - loss: 0.3858 - accuracy: 0.8816 - val_loss: 1.8869 - val_accuracy: 0.6259\n",
            "Epoch 100/100\n",
            "359/359 [==============================] - 51s 141ms/step - loss: 0.3861 - accuracy: 0.8851 - val_loss: 2.0005 - val_accuracy: 0.6036\n"
          ],
          "name": "stdout"
        },
        {
          "output_type": "execute_result",
          "data": {
            "text/plain": [
              "<tensorflow.python.keras.callbacks.History at 0x7f0ec95e5550>"
            ]
          },
          "metadata": {
            "tags": []
          },
          "execution_count": 13
        }
      ]
    },
    {
      "cell_type": "code",
      "metadata": {
        "id": "e9u2_Ie_A08t",
        "colab_type": "code",
        "colab": {}
      },
      "source": [
        "fer_json = model.to_json()"
      ],
      "execution_count": 0,
      "outputs": []
    },
    {
      "cell_type": "code",
      "metadata": {
        "id": "6zbIavOnBTZi",
        "colab_type": "code",
        "colab": {}
      },
      "source": [
        "with open(\"drive/My Drive/fer.json\", \"w\") as json_file:\n",
        "    json_file.write(fer_json)"
      ],
      "execution_count": 0,
      "outputs": []
    },
    {
      "cell_type": "code",
      "metadata": {
        "id": "AWWiVF8TBsPd",
        "colab_type": "code",
        "colab": {}
      },
      "source": [
        "model.save_weights(\"drive/My Drive/fer.h5\")"
      ],
      "execution_count": 0,
      "outputs": []
    }
  ]
}